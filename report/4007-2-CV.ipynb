{
 "cells": [
  {
   "cell_type": "markdown",
   "metadata": {
    "heading_collapsed": true
   },
   "source": [
    "# Import & Load"
   ]
  },
  {
   "cell_type": "code",
   "execution_count": null,
   "metadata": {
    "hidden": true
   },
   "outputs": [],
   "source": [
    "import learning2read\n",
    "learning2read.reload_all()\n",
    "from learning2read.b04 import *\n",
    "Data = DataMgr(PATH_MAC['data'], verbose=1)\n",
    "File = PathMgr(PATH_MAC['cache'])"
   ]
  },
  {
   "cell_type": "code",
   "execution_count": null,
   "metadata": {
    "hidden": true
   },
   "outputs": [],
   "source": [
    "raw_train = Data('btrain')\n",
    "raw_test = Data('btest')\n",
    "raw_implicit = Data('implicit')\n",
    "raw_user = Data('user')\n",
    "raw_book = Data('book')\n",
    "raw_dataset = {\n",
    "    'raw_train' : raw_train,\n",
    "    'raw_test' : raw_test,\n",
    "    'raw_implicit' : raw_implicit,\n",
    "    'raw_user' : raw_user,\n",
    "    'raw_book' : raw_book,\n",
    "}"
   ]
  },
  {
   "cell_type": "code",
   "execution_count": null,
   "metadata": {
    "hidden": true
   },
   "outputs": [],
   "source": [
    "m = 1\n",
    "raw_dataset_truncated = {\n",
    "    'raw_train' : raw_train.sample(int(5000*m)),\n",
    "    'raw_test' : raw_test.sample(int(2500*m)),\n",
    "    'raw_implicit' : raw_implicit.sample(int(10000*m)),\n",
    "    'raw_user' : raw_user.sample(int(5000*m)),\n",
    "    'raw_book' : raw_book.sample(int(5000*m)),\n",
    "}"
   ]
  },
  {
   "cell_type": "markdown",
   "metadata": {
    "heading_collapsed": true
   },
   "source": [
    "# Proc40072"
   ]
  },
  {
   "cell_type": "code",
   "execution_count": null,
   "metadata": {
    "hidden": true
   },
   "outputs": [],
   "source": [
    "proc40072 = [\n",
    "    {\n",
    "        'class' : 'learning2read.preprocessing.TotalDataFrame',\n",
    "        'output' : 'df_total',\n",
    "        'input_data' : ['raw_train', 'raw_test', 'raw_implicit'],\n",
    "    },\n",
    "    {\n",
    "        'class' : 'learning2read.preprocessing.CleanRawUser',\n",
    "        'output' : 'user_info',\n",
    "        'input_data' : ['df_total', 'raw_user'],\n",
    "        'na_policy' : 'median',\n",
    "    },\n",
    "    {\n",
    "        'class' : 'learning2read.preprocessing.CleanRawBook',\n",
    "        'output' : 'book_info',\n",
    "        'input_data' : ['df_total', 'raw_book'],\n",
    "        'na_policy' : 'median',\n",
    "    },\n",
    "    {\n",
    "        'class' : 'learning2read.preprocessing.UserRatingSqueeze',\n",
    "        'output' : 'user_rating',\n",
    "        'input_data' : 'df_total',\n",
    "        'filter_num' : 3,\n",
    "        'statistics' : ['num','quantile11','mean','mode','std','skew','kurtosis'],\n",
    "#         'statistics' : ['num','mean','mode','std','skew','kurtosis'],\n",
    "        'na_policy' : 'median',\n",
    "    },\n",
    "    {\n",
    "        'class' : 'learning2read.preprocessing.UserPadding',\n",
    "        'output' : 'user_rating',\n",
    "        'input_data' : ['df_total', 'user_rating'],\n",
    "        'isna_name' : 'User_no_book',\n",
    "        'na_policy' : 'median',\n",
    "    },\n",
    "    {\n",
    "        'class' : 'learning2read.preprocessing.BookRatingSqueeze',\n",
    "        'output' : 'book_rating',\n",
    "        'input_data' : 'df_total',\n",
    "        'filter_num' : 3,\n",
    "        'statistics' : ['num','quantile11','mean','mode','std','skew','kurtosis'],\n",
    "#         'statistics' : ['num','mean','mode','std','skew','kurtosis'],\n",
    "        'na_policy' : 'median',\n",
    "    },\n",
    "    {\n",
    "        'class' : 'learning2read.preprocessing.BookPadding',\n",
    "        'output' : 'book_rating',\n",
    "        'input_data' : ['df_total', 'book_rating'],\n",
    "        'isna_name' : 'ISBN_no_user',\n",
    "        'na_policy' : 'median',\n",
    "    },\n",
    "    {\n",
    "        'class'  : 'learning2read.b04.BookVectorPow2AutoEncoder',\n",
    "        'output' : 'book_vector',\n",
    "        'input_data' : 'df_total',\n",
    "        'domain_filter_num' : 2, # book with >=2 users\n",
    "        'codomain_filter_num' : 400, # user with >=400 books\n",
    "        'param' : {\n",
    "            'code_length' : 32, \n",
    "            'activation' : 'SELU', \n",
    "            'solver' : 'Adam', \n",
    "            'learning_rate' : 0.01,\n",
    "            'epochs' : 20,\n",
    "            'random_state' : 1,\n",
    "        },\n",
    "    },\n",
    "    {\n",
    "        'class'  : 'learning2read.b04.UserVectorPow2AutoEncoder',\n",
    "        'output' : 'user_vector',\n",
    "        'input_data' : 'df_total',\n",
    "        'domain_filter_num' : 2,\n",
    "        'codomain_filter_num' : 200,\n",
    "        'param' : {\n",
    "            'code_length' : 32, \n",
    "            'activation' : 'SELU', \n",
    "            'solver' : 'Adam', \n",
    "            'learning_rate' : 0.01,\n",
    "            'epochs' : 20,\n",
    "            'random_state' : 1,\n",
    "        },\n",
    "    },\n",
    "    {\n",
    "        'class'  : 'learning2read.preprocessing.UserBookTable',\n",
    "        'output' : 'df_total_features', # (X,y={-1,0,1,2,...,10})\n",
    "        'input_data' : ['df_total', 'user_rating', 'book_rating', 'user_info', 'book_info', 'user_vector', 'book_vector'],\n",
    "        'na_policy' : None, # should fill it before training\n",
    "    },\n",
    "]"
   ]
  },
  {
   "cell_type": "markdown",
   "metadata": {},
   "source": [
    "# CV Procs"
   ]
  },
  {
   "cell_type": "code",
   "execution_count": 121,
   "metadata": {},
   "outputs": [
    {
     "data": {
      "text/plain": [
       "<multiprocessing.pool.MapResult at 0x1a21ed2080>"
      ]
     },
     "execution_count": 121,
     "metadata": {},
     "output_type": "execute_result"
    }
   ],
   "source": [
    "# reload\n",
    "import learning2read\n",
    "learning2read.reload_all()\n",
    "from learning2read.b04 import *\n",
    "\n",
    "K_fold = 5\n",
    "\n",
    "FG = FileGen(\n",
    "    save=lambda pid,data:save_pickle(File(\"proc40072_5fold_%d\"%(pid)), data),\n",
    "    raw_dataset=raw_dataset_truncated,\n",
    "    proc=proc40072,\n",
    "    K_fold=K_fold,\n",
    "    seed_fold=1\n",
    ")\n",
    "\n",
    "from multiprocessing import Pool\n",
    "pool = Pool()\n",
    "pool.map_async(FG.cv_preapre, range(K_fold))\n",
    "# p0=FG.cv_preapre(4)\n",
    "# p0"
   ]
  },
  {
   "cell_type": "code",
   "execution_count": 122,
   "metadata": {},
   "outputs": [
    {
     "data": {
      "text/plain": [
       "['.DS_Store',\n",
       " 'track1_lgbm_tuned_3_058754.csv',\n",
       " 't',\n",
       " 'track1_lgbm_tuned_2_059275.csv',\n",
       " 'P6_6.pk',\n",
       " 't1.csv',\n",
       " 'track1_lgbm_tuned.csv',\n",
       " 'p4004_done',\n",
       " 'df_total_selected']"
      ]
     },
     "execution_count": 122,
     "metadata": {},
     "output_type": "execute_result"
    }
   ],
   "source": [
    "File()"
   ]
  },
  {
   "cell_type": "markdown",
   "metadata": {
    "heading_collapsed": true
   },
   "source": [
    "# DEV Code (Old)"
   ]
  },
  {
   "cell_type": "code",
   "execution_count": 97,
   "metadata": {
    "hidden": true
   },
   "outputs": [
    {
     "name": "stdout",
     "output_type": "stream",
     "text": [
      "run_id(1): {'class': 'learning2read.preprocessing.CleanRawUser', 'output': 'user_info', 'input_data': ['df_total', 'raw_user'], 'na_policy': 'median'}\n",
      "run_id(2): {'class': 'learning2read.preprocessing.CleanRawBook', 'output': 'book_info', 'input_data': ['df_total', 'raw_book'], 'na_policy': 'median'}\n",
      "run_id(3): {'class': 'learning2read.preprocessing.UserRatingSqueeze', 'output': 'user_rating', 'input_data': 'df_total', 'filter_num': 3, 'statistics': ['num', 'quantile11', 'mean', 'mode', 'std', 'skew', 'kurtosis'], 'na_policy': 'median'}\n",
      "run_id(4): {'class': 'learning2read.preprocessing.UserPadding', 'output': 'user_rating', 'input_data': ['df_total', 'user_rating'], 'isna_name': 'User_no_book', 'na_policy': 'median'}\n",
      "run_id(5): {'class': 'learning2read.preprocessing.BookRatingSqueeze', 'output': 'book_rating', 'input_data': 'df_total', 'filter_num': 3, 'statistics': ['num', 'quantile11', 'mean', 'mode', 'std', 'skew', 'kurtosis'], 'na_policy': 'median'}\n",
      "run_id(6): {'class': 'learning2read.preprocessing.BookPadding', 'output': 'book_rating', 'input_data': ['df_total', 'book_rating'], 'isna_name': 'ISBN_no_user', 'na_policy': 'median'}\n",
      "run_id(7): {'class': 'learning2read.b04.BookVectorPow2AutoEncoder', 'output': 'book_vector', 'input_data': 'df_total', 'domain_filter_num': 2, 'codomain_filter_num': 400, 'param': {'code_length': 32, 'activation': 'SELU', 'solver': 'Adam', 'learning_rate': 0.01, 'epochs': 20, 'random_state': 1}}\n",
      "input dim:  [1625, 0]\n",
      "[BookVectorPow2AutoEncoder] WARNING idx_list got nothing (too extreme filter?)\n",
      "run_id(8): {'class': 'learning2read.b04.UserVectorPow2AutoEncoder', 'output': 'user_vector', 'input_data': 'df_total', 'domain_filter_num': 2, 'codomain_filter_num': 200, 'param': {'code_length': 32, 'activation': 'SELU', 'solver': 'Adam', 'learning_rate': 0.01, 'epochs': 20, 'random_state': 1}}\n",
      "input dim:  [2378, 0]\n",
      "[BookVectorPow2AutoEncoder] WARNING idx_list got nothing (too extreme filter?)\n",
      "run_id(9): {'class': 'learning2read.preprocessing.UserBookTable', 'output': 'df_total_features', 'input_data': ['df_total', 'user_rating', 'book_rating', 'user_info', 'book_info', 'user_vector', 'book_vector'], 'na_policy': None}\n"
     ]
    },
    {
     "name": "stderr",
     "output_type": "stream",
     "text": [
      "/Users/qtwu/anaconda/lib/python3.6/site-packages/pandas/core/indexing.py:543: SettingWithCopyWarning: \n",
      "A value is trying to be set on a copy of a slice from a DataFrame.\n",
      "Try using .loc[row_indexer,col_indexer] = value instead\n",
      "\n",
      "See the caveats in the documentation: http://pandas.pydata.org/pandas-docs/stable/indexing.html#indexing-view-versus-copy\n",
      "  self.obj[item] = s\n"
     ]
    }
   ],
   "source": [
    "# P0 = ProcValidation.run(\n",
    "#     raw_dataset_truncated,\n",
    "#     proc40072,\n",
    "#     0,\n",
    "#     5,\n",
    "#     1,\n",
    "#     verbose = True\n",
    "# )['output']"
   ]
  },
  {
   "cell_type": "code",
   "execution_count": null,
   "metadata": {
    "hidden": true
   },
   "outputs": [],
   "source": [
    "# P = Procedure(proc40072,verbose=True)\n",
    "# P.load_data(raw_dataset_truncated)\n",
    "# # P.load_data(raw_dataset)\n",
    "# P.run_id(0)\n",
    "# def validation_set(P, i=0, K=5):\n",
    "#     df = P.var['df_total']\n",
    "#     df_train = df.loc[df['Book-Rating']>0, :]\n",
    "#     N = df_train.shape[0]\n",
    "#     idx_valid = IndexFold(K, N, 1)[i]\n",
    "#     idx_valid = df_train.iloc[idx_valid, :].index\n",
    "#     y_valid = df.loc[idx_valid, 'Book-Rating']\n",
    "#     df_sub = df.iloc[:, :]\n",
    "#     df_sub.loc[idx_valid, 'Book-Rating'] = -2\n",
    "#     P.var['df_total'] = df_sub.iloc[:, :]\n",
    "#     return (P, y_valid)\n",
    "# P, y_valid = validation_set(P, 1, 5)\n",
    "\n",
    "# P.run()\n",
    "\n",
    "# RF = learning2read.preprocessing.RowFilter\n",
    "# df_train = RF.run(P.var['df_total_features'],r\"lambda df:df['Book-Rating']>0\",)['output']\n",
    "# df_valid = RF.run(P.var['df_total_features'],r\"lambda df:df['Book-Rating']==-2\",)['output']\n",
    "# df_valid.loc[y_valid.index, 'Book-Rating'] = y_valid\n",
    "\n",
    "# P.var['df_total_features']"
   ]
  },
  {
   "cell_type": "code",
   "execution_count": 92,
   "metadata": {
    "hidden": true
   },
   "outputs": [],
   "source": [
    "# {\n",
    "#     'class' : 'learning2read.b04.ProcValidation',\n",
    "#     'output' : 'P',\n",
    "#     'input_data' : 'raw_dataset',\n",
    "#     'proc' : proc40072, # run_id(0) -> hold y_valid -> run all\n",
    "#     'K_fold' : 5,\n",
    "#     'i_fold' : 0,\n",
    "#     'seed_fold' : 1,\n",
    "# }\n",
    "# # PV1.load_data({'raw_dataset': raw_dataset})\n",
    "# # PV1.var['P'].var['df_train']\n",
    "# # PV1.var['P'].var['df_valid']\n",
    "# pass"
   ]
  },
  {
   "cell_type": "code",
   "execution_count": null,
   "metadata": {
    "hidden": true
   },
   "outputs": [],
   "source": [
    "import homework\n",
    "from homework import *\n",
    "reload(homework)\n",
    "pass"
   ]
  }
 ],
 "metadata": {
  "kernelspec": {
   "display_name": "Python 3",
   "language": "python",
   "name": "python3"
  },
  "language_info": {
   "codemirror_mode": {
    "name": "ipython",
    "version": 3
   },
   "file_extension": ".py",
   "mimetype": "text/x-python",
   "name": "python",
   "nbconvert_exporter": "python",
   "pygments_lexer": "ipython3",
   "version": "3.6.1"
  },
  "toc": {
   "base_numbering": 1,
   "nav_menu": {},
   "number_sections": false,
   "sideBar": false,
   "skip_h1_title": false,
   "title_cell": "Titles",
   "title_sidebar": "Contents",
   "toc_cell": false,
   "toc_position": {},
   "toc_section_display": true,
   "toc_window_display": false
  }
 },
 "nbformat": 4,
 "nbformat_minor": 2
}
