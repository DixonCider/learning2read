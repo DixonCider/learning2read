{
 "cells": [
  {
   "cell_type": "markdown",
   "metadata": {},
   "source": []
  },
  {
   "cell_type": "code",
   "execution_count": 1,
   "metadata": {},
   "outputs": [],
   "source": [
    "import learning2read\n",
    "from learning2read.b06 import *\n",
    "from learning2read.proc import Procedure\n",
    "from learning2read.preprocessing import TotalDataFrame\n",
    "from importlib import reload"
   ]
  },
  {
   "cell_type": "code",
   "execution_count": 2,
   "metadata": {},
   "outputs": [
    {
     "data": {
      "text/plain": [
       "(17490, 29273)"
      ]
     },
     "execution_count": 2,
     "metadata": {},
     "output_type": "execute_result"
    }
   ],
   "source": [
    "from scipy.sparse import csr_matrix\n",
    "\n",
    "frame = Data(\"dattrain\").sample(40000)\n",
    "\n",
    "userlst = list(frame['User-ID'].unique())\n",
    "isbnlst = list(frame['ISBN'].unique())\n",
    "\n",
    "data = frame['Book-Rating'].tolist()\n",
    "row = frame['User-ID'].astype(pd.api.types.CategoricalDtype(categories=userlst)).cat.codes\n",
    "col = frame['ISBN'].astype(pd.api.types.CategoricalDtype(categories=isbnlst)).cat.codes\n",
    "# col = frame.thing.astype('category', categories=thing_u).cat.codes\n",
    "M = csr_matrix((data, (row, col)), shape=(len(userlst), len(isbnlst)))\n",
    "\n",
    "len(userlst), len(isbnlst)"
   ]
  },
  {
   "cell_type": "markdown",
   "metadata": {},
   "source": [
    "**sklearn的NMF不支援missing value...**"
   ]
  },
  {
   "cell_type": "code",
   "execution_count": 3,
   "metadata": {},
   "outputs": [],
   "source": [
    "# model = NMF(n_components = 3, init='random', random_state=0, tol=0.001)\n",
    "# W = model.fit_transform(M)\n",
    "# H = model.components_"
   ]
  },
  {
   "cell_type": "markdown",
   "metadata": {},
   "source": [
    "[先用這個試試看](https://stackoverflow.com/questions/22767695/python-non-negative-matrix-factorization-that-handles-both-zeros-and-missing-dat)"
   ]
  },
  {
   "cell_type": "code",
   "execution_count": 4,
   "metadata": {},
   "outputs": [],
   "source": [
    "import numpy as np\n",
    "from scipy import linalg\n",
    "from numpy import dot\n",
    "\n",
    "class NMF:\n",
    "    def __init__(self, X, latent_features, eps=1e-5):\n",
    "        self.eps = eps\n",
    "        self.latent_features = latent_features\n",
    "        self.X = X.toarray()\n",
    "        self.mask = np.sign(self.X)\n",
    "        self.rows, self.columns = self.X.shape\n",
    "        self.A = np.random.rand(self.rows, self.latent_features)\n",
    "        self.A = np.maximum(self.A, self.eps)\n",
    "        self.Y = linalg.lstsq(self.A, self.X)[0]\n",
    "        self.Y = np.maximum(self.Y, self.eps)\n",
    "        self.masked_X = self.mask * self.X\n",
    "        self.X_est_prev = dot(self.A, self.Y)\n",
    "        self.iters = 0\n",
    "        \n",
    "    def DoIter(self):\n",
    "        top = dot(self.masked_X, self.Y.T)\n",
    "        bottom = (dot((self.mask * dot(self.A, self.Y)), self.Y.T)) + self.eps\n",
    "        self.A *= top / bottom\n",
    "        self.A = np.maximum(self.A, self.eps)\n",
    "        top = dot(self.A.T, self.masked_X)\n",
    "        bottom = dot(self.A.T, self.mask * dot(self.A, self.Y)) + self.eps\n",
    "        self.Y *= top / bottom\n",
    "        self.Y = np.maximum(self.Y, self.eps)\n",
    "        self.iters += 1\n",
    "        \n",
    "    def GetWH(self): return self.A, self.Y\n",
    "    def Evaluate(self):\n",
    "        X_est = dot(self.A, self.Y)\n",
    "        err = self.mask * (self.X_est_prev - X_est)\n",
    "        fit_residual = np.sqrt(np.sum(err ** 2))\n",
    "        self.X_est_prev = X_est\n",
    "        curRes = linalg.norm(self.mask * (self.X - X_est), ord = 'fro')\n",
    "        return fit_residual, curRes\n"
   ]
  },
  {
   "cell_type": "code",
   "execution_count": null,
   "metadata": {},
   "outputs": [],
   "source": [
    "alldata = Data(\"dattrain\")\n",
    "comp = alldata.loc[~alldata.isin(frame).all(1)]\n",
    "isbnid = dict((j,i) for i,j in enumerate(isbnlst))\n",
    "userid = dict((j,i) for i,j in enumerate(userlst))\n",
    "comp = comp.loc[comp['ISBN'].isin(isbnid)]\n",
    "comp = comp.loc[comp['User-ID'].isin(userid)]\n",
    "\n",
    "def GetEval(W, H):\n",
    "    comp['predicted'] = comp.apply(\n",
    "        lambda r: min(10, int(np.dot(W[userid[r['User-ID']],:], H[:,isbnid[r['ISBN']]]) + 0.5)), axis=1)\n",
    "    return np.array(comp.apply(lambda r: abs(r['Book-Rating'] - r['predicted']), axis=1)).sum() / comp.shape[0]\n",
    "\n",
    "f = open('/tmp2/b06902021/ML/NMFresult', 'a')\n",
    "\n",
    "for dimen in [3,5,10,20,40,70]:\n",
    "    for seed in range(2):\n",
    "        np.random.seed(seed)\n",
    "        model = NMF(M, 20)\n",
    "        W, H = model.GetWH()\n",
    "        print(dimen, 0, model.Evaluate(), GetEval(W, H), file=f)\n",
    "        f.flush()\n",
    "        for i in range(8):\n",
    "            model.DoIter()\n",
    "            W, H = model.GetWH()\n",
    "            print(dimen, i + 1, model.Evaluate(), GetEval(W, H), file=f)\n",
    "            f.flush()\n"
   ]
  }
 ],
 "metadata": {
  "kernelspec": {
   "display_name": "Python 3",
   "language": "python",
   "name": "python3"
  },
  "language_info": {
   "codemirror_mode": {
    "name": "ipython",
    "version": 3
   },
   "file_extension": ".py",
   "mimetype": "text/x-python",
   "name": "python",
   "nbconvert_exporter": "python",
   "pygments_lexer": "ipython3",
   "version": "3.6.5"
  }
 },
 "nbformat": 4,
 "nbformat_minor": 2
}
