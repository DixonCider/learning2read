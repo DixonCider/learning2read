{
 "cells": [
  {
   "cell_type": "markdown",
   "metadata": {},
   "source": [
    "作法\n",
    "1. 從training data中把「同樣USER-ID」評書的紀錄收集起來\n",
    "    + $U_i=\\{r_1,r_2,...,r_j\\}$\n",
    "2. 計算各種統計量（平均、最大最小、偏態、峰態、10分位數）\n",
    "3. 把$U_i$序列壓扁當成該User的特徵\n",
    "4. 沒有資料的User特徵用中位數填入\n",
    "    + 可能看過零本書、都是implict rating、users.csv根本沒描述、...等\n",
    "5. （忽略ISBN）\n",
    "6. train lightGBM\n",
    "    + 參數全部用預設\n",
    "    + 微軟出的gradient boost decsision tree套件，anaconda沒有要自己裝\n",
    "7. 輸出track2預測、四捨五入到整數位當成track1預測"
   ]
  },
  {
   "cell_type": "markdown",
   "metadata": {},
   "source": [
    "結論\n",
    "1. 大部分使用者只評1本書（之後另寫一篇）\n",
    "    + 沒算變異數是因為scipy呼叫了長度1的序列會掛掉XD\n",
    "2. lightGBM train得比sklearn.ensemble.GradientBoostingClassifier快得多\n",
    "    + 有很多錯誤函數可以選，之後再研究\n",
    "3. lb score看來使用者評分的\"scale\"是有點重要（專門評低分的人vs都給8,9,10分的人）"
   ]
  },
  {
   "cell_type": "markdown",
   "metadata": {},
   "source": [
    "可能的改進\n",
    "1. 調lightGBM的參數\n",
    "2. 對ISBN做簡單分析\n",
    "3. 對user資料做一些視覺化（i.e. $U_i$）"
   ]
  },
  {
   "cell_type": "markdown",
   "metadata": {},
   "source": [
    "***"
   ]
  },
  {
   "cell_type": "markdown",
   "metadata": {},
   "source": [
    "# DataLoader / Imports"
   ]
  },
  {
   "cell_type": "code",
   "execution_count": 1,
   "metadata": {},
   "outputs": [],
   "source": [
    "import pandas as pd\n",
    "import numpy as np\n",
    "import scipy\n",
    "from learning2read.utils import DataLoader\n",
    "def Data(key,**kwargs):\n",
    "    return DataLoader(r\"/Users/qtwu/Downloads/data\").load(key,**kwargs)"
   ]
  },
  {
   "cell_type": "code",
   "execution_count": 2,
   "metadata": {},
   "outputs": [
    {
     "name": "stdout",
     "output_type": "stream",
     "text": [
      "/Users/qtwu/Downloads/data/users.csv\n",
      "/Users/qtwu/Downloads/data/book_ratings_train.csv\n",
      "/Users/qtwu/Downloads/data/book_ratings_test.csv\n",
      "/Users/qtwu/Downloads/data/submission.csv\n"
     ]
    },
    {
     "data": {
      "text/plain": [
       "((278858, 3), (260202, 3), (173469, 2), (173469, 1))"
      ]
     },
     "execution_count": 2,
     "metadata": {},
     "output_type": "execute_result"
    }
   ],
   "source": [
    "raw_user=Data(\"user\")\n",
    "raw_train=Data(\"btrain\")\n",
    "raw_test=Data(\"btest\")\n",
    "raw_submit=Data(\"submit\",index_col=None,header=None)\n",
    "raw_user.shape, raw_train.shape, raw_test.shape, raw_submit.shape"
   ]
  },
  {
   "cell_type": "markdown",
   "metadata": {},
   "source": [
    "# Build User Features By \"ratings\""
   ]
  },
  {
   "cell_type": "code",
   "execution_count": 3,
   "metadata": {
    "collapsed": true
   },
   "outputs": [],
   "source": [
    "user_dict={}\n",
    "def new_user(uid):\n",
    "    global user_dict\n",
    "    user_dict[uid]={'nbook':0,'ratings':[]}\n",
    "for r in raw_train.to_dict('record'):\n",
    "    uid=r['User-ID']\n",
    "    if not user_dict.get(uid):\n",
    "        new_user(uid)\n",
    "    user_dict[uid]['nbook']+=1\n",
    "    user_dict[uid]['ratings'].append(r['Book-Rating'])"
   ]
  },
  {
   "cell_type": "markdown",
   "metadata": {},
   "source": [
    "**Slow** caculating statistics (moment/quantile)"
   ]
  },
  {
   "cell_type": "code",
   "execution_count": 4,
   "metadata": {},
   "outputs": [
    {
     "data": {
      "text/html": [
       "<div>\n",
       "<style>\n",
       "    .dataframe thead tr:only-child th {\n",
       "        text-align: right;\n",
       "    }\n",
       "\n",
       "    .dataframe thead th {\n",
       "        text-align: left;\n",
       "    }\n",
       "\n",
       "    .dataframe tbody tr th {\n",
       "        vertical-align: top;\n",
       "    }\n",
       "</style>\n",
       "<table border=\"1\" class=\"dataframe\">\n",
       "  <thead>\n",
       "    <tr style=\"text-align: right;\">\n",
       "      <th></th>\n",
       "      <th>User-ID</th>\n",
       "      <th>nbook</th>\n",
       "      <th>rating_kurtosis</th>\n",
       "      <th>rating_mode</th>\n",
       "      <th>rating_q1</th>\n",
       "      <th>rating_q2</th>\n",
       "      <th>rating_q3</th>\n",
       "      <th>rating_q4</th>\n",
       "      <th>rating_q5</th>\n",
       "      <th>rating_q6</th>\n",
       "      <th>rating_q7</th>\n",
       "      <th>rating_q8</th>\n",
       "      <th>rating_q9</th>\n",
       "      <th>rating_skew</th>\n",
       "      <th>rating_tmax</th>\n",
       "      <th>rating_tmean</th>\n",
       "      <th>rating_tmin</th>\n",
       "    </tr>\n",
       "  </thead>\n",
       "  <tbody>\n",
       "    <tr>\n",
       "      <th>12437</th>\n",
       "      <td>5b4f561f42</td>\n",
       "      <td>15</td>\n",
       "      <td>-0.343264</td>\n",
       "      <td>7</td>\n",
       "      <td>6.0</td>\n",
       "      <td>6.8</td>\n",
       "      <td>7.0</td>\n",
       "      <td>7.0</td>\n",
       "      <td>7.0</td>\n",
       "      <td>7.4</td>\n",
       "      <td>8.0</td>\n",
       "      <td>8.0</td>\n",
       "      <td>8.6</td>\n",
       "      <td>-0.212940</td>\n",
       "      <td>9</td>\n",
       "      <td>7.266667</td>\n",
       "      <td>5</td>\n",
       "    </tr>\n",
       "    <tr>\n",
       "      <th>17102</th>\n",
       "      <td>7fcfcfb714</td>\n",
       "      <td>17</td>\n",
       "      <td>-1.603337</td>\n",
       "      <td>5</td>\n",
       "      <td>4.6</td>\n",
       "      <td>5.0</td>\n",
       "      <td>5.0</td>\n",
       "      <td>5.8</td>\n",
       "      <td>7.0</td>\n",
       "      <td>8.6</td>\n",
       "      <td>9.0</td>\n",
       "      <td>9.0</td>\n",
       "      <td>9.4</td>\n",
       "      <td>-0.076862</td>\n",
       "      <td>10</td>\n",
       "      <td>7.058824</td>\n",
       "      <td>4</td>\n",
       "    </tr>\n",
       "    <tr>\n",
       "      <th>21193</th>\n",
       "      <td>d4f08d3783</td>\n",
       "      <td>4</td>\n",
       "      <td>-1.000000</td>\n",
       "      <td>5</td>\n",
       "      <td>5.9</td>\n",
       "      <td>6.8</td>\n",
       "      <td>7.7</td>\n",
       "      <td>8.2</td>\n",
       "      <td>8.5</td>\n",
       "      <td>8.8</td>\n",
       "      <td>9.1</td>\n",
       "      <td>9.4</td>\n",
       "      <td>9.7</td>\n",
       "      <td>-0.687243</td>\n",
       "      <td>10</td>\n",
       "      <td>8.000000</td>\n",
       "      <td>5</td>\n",
       "    </tr>\n",
       "  </tbody>\n",
       "</table>\n",
       "</div>"
      ],
      "text/plain": [
       "          User-ID  nbook  rating_kurtosis  rating_mode  rating_q1  rating_q2  \\\n",
       "12437  5b4f561f42     15        -0.343264            7        6.0        6.8   \n",
       "17102  7fcfcfb714     17        -1.603337            5        4.6        5.0   \n",
       "21193  d4f08d3783      4        -1.000000            5        5.9        6.8   \n",
       "\n",
       "       rating_q3  rating_q4  rating_q5  rating_q6  rating_q7  rating_q8  \\\n",
       "12437        7.0        7.0        7.0        7.4        8.0        8.0   \n",
       "17102        5.0        5.8        7.0        8.6        9.0        9.0   \n",
       "21193        7.7        8.2        8.5        8.8        9.1        9.4   \n",
       "\n",
       "       rating_q9  rating_skew  rating_tmax  rating_tmean  rating_tmin  \n",
       "12437        8.6    -0.212940            9      7.266667            5  \n",
       "17102        9.4    -0.076862           10      7.058824            4  \n",
       "21193        9.7    -0.687243           10      8.000000            5  "
      ]
     },
     "execution_count": 4,
     "metadata": {},
     "output_type": "execute_result"
    }
   ],
   "source": [
    "import scipy.stats\n",
    "stat_name=['mode','tmean','tmin','tmax','skew','kurtosis']\n",
    "def gen(uid,r):\n",
    "    result={\n",
    "        'User-ID':uid,\n",
    "        'nbook':r['nbook']\n",
    "    }\n",
    "    for name in stat_name:\n",
    "        result[\"rating_\"+name]=eval(\"scipy.stats.%s(r['ratings'])\"%name)\n",
    "    for v in range(9):\n",
    "        q=(v+1)*10\n",
    "        result['rating_q%d'%(v+1)]=np.percentile(r['ratings'],q)\n",
    "    return result\n",
    "df_user_rate=pd.DataFrame([gen(uid,r) for uid,r in user_dict.items()])\n",
    "df_user_rate['rating_mode']=df_user_rate['rating_mode'].apply(lambda r:r[0][0])\n",
    "df_user_rate.sample(3)"
   ]
  },
  {
   "cell_type": "markdown",
   "metadata": {},
   "source": [
    "# Prepare Training Data"
   ]
  },
  {
   "cell_type": "code",
   "execution_count": 5,
   "metadata": {},
   "outputs": [
    {
     "data": {
      "text/html": [
       "<div>\n",
       "<style>\n",
       "    .dataframe thead tr:only-child th {\n",
       "        text-align: right;\n",
       "    }\n",
       "\n",
       "    .dataframe thead th {\n",
       "        text-align: left;\n",
       "    }\n",
       "\n",
       "    .dataframe tbody tr th {\n",
       "        vertical-align: top;\n",
       "    }\n",
       "</style>\n",
       "<table border=\"1\" class=\"dataframe\">\n",
       "  <thead>\n",
       "    <tr style=\"text-align: right;\">\n",
       "      <th></th>\n",
       "      <th>Book-Rating</th>\n",
       "      <th>nbook</th>\n",
       "      <th>rating_kurtosis</th>\n",
       "      <th>rating_mode</th>\n",
       "      <th>rating_q1</th>\n",
       "      <th>rating_q2</th>\n",
       "      <th>rating_q3</th>\n",
       "      <th>rating_q4</th>\n",
       "      <th>rating_q5</th>\n",
       "      <th>rating_q6</th>\n",
       "      <th>rating_q7</th>\n",
       "      <th>rating_q8</th>\n",
       "      <th>rating_q9</th>\n",
       "      <th>rating_skew</th>\n",
       "      <th>rating_tmax</th>\n",
       "      <th>rating_tmean</th>\n",
       "      <th>rating_tmin</th>\n",
       "    </tr>\n",
       "  </thead>\n",
       "  <tbody>\n",
       "    <tr>\n",
       "      <th>243737</th>\n",
       "      <td>7</td>\n",
       "      <td>8</td>\n",
       "      <td>0.721253</td>\n",
       "      <td>9</td>\n",
       "      <td>6.1</td>\n",
       "      <td>7.0</td>\n",
       "      <td>7.1</td>\n",
       "      <td>7.8</td>\n",
       "      <td>8.0</td>\n",
       "      <td>8.2</td>\n",
       "      <td>8.9</td>\n",
       "      <td>9.0</td>\n",
       "      <td>9.0</td>\n",
       "      <td>-1.283846</td>\n",
       "      <td>9</td>\n",
       "      <td>7.625000</td>\n",
       "      <td>4</td>\n",
       "    </tr>\n",
       "    <tr>\n",
       "      <th>186187</th>\n",
       "      <td>8</td>\n",
       "      <td>28</td>\n",
       "      <td>-0.668800</td>\n",
       "      <td>5</td>\n",
       "      <td>4.0</td>\n",
       "      <td>5.0</td>\n",
       "      <td>5.0</td>\n",
       "      <td>5.0</td>\n",
       "      <td>7.0</td>\n",
       "      <td>7.0</td>\n",
       "      <td>7.9</td>\n",
       "      <td>8.0</td>\n",
       "      <td>8.0</td>\n",
       "      <td>-0.360891</td>\n",
       "      <td>9</td>\n",
       "      <td>6.285714</td>\n",
       "      <td>2</td>\n",
       "    </tr>\n",
       "    <tr>\n",
       "      <th>178929</th>\n",
       "      <td>9</td>\n",
       "      <td>175</td>\n",
       "      <td>-0.432006</td>\n",
       "      <td>8</td>\n",
       "      <td>7.0</td>\n",
       "      <td>7.0</td>\n",
       "      <td>7.0</td>\n",
       "      <td>8.0</td>\n",
       "      <td>8.0</td>\n",
       "      <td>8.0</td>\n",
       "      <td>8.8</td>\n",
       "      <td>9.0</td>\n",
       "      <td>10.0</td>\n",
       "      <td>0.055816</td>\n",
       "      <td>10</td>\n",
       "      <td>8.005714</td>\n",
       "      <td>5</td>\n",
       "    </tr>\n",
       "  </tbody>\n",
       "</table>\n",
       "</div>"
      ],
      "text/plain": [
       "        Book-Rating  nbook  rating_kurtosis  rating_mode  rating_q1  \\\n",
       "243737            7      8         0.721253            9        6.1   \n",
       "186187            8     28        -0.668800            5        4.0   \n",
       "178929            9    175        -0.432006            8        7.0   \n",
       "\n",
       "        rating_q2  rating_q3  rating_q4  rating_q5  rating_q6  rating_q7  \\\n",
       "243737        7.0        7.1        7.8        8.0        8.2        8.9   \n",
       "186187        5.0        5.0        5.0        7.0        7.0        7.9   \n",
       "178929        7.0        7.0        8.0        8.0        8.0        8.8   \n",
       "\n",
       "        rating_q8  rating_q9  rating_skew  rating_tmax  rating_tmean  \\\n",
       "243737        9.0        9.0    -1.283846            9      7.625000   \n",
       "186187        8.0        8.0    -0.360891            9      6.285714   \n",
       "178929        9.0       10.0     0.055816           10      8.005714   \n",
       "\n",
       "        rating_tmin  \n",
       "243737            4  \n",
       "186187            2  \n",
       "178929            5  "
      ]
     },
     "execution_count": 5,
     "metadata": {},
     "output_type": "execute_result"
    }
   ],
   "source": [
    "def rating_merge(rating,user): # only users.csv, books disposed\n",
    "    df=rating\n",
    "    df=df.merge(user,on='User-ID',how='left')\n",
    "    df=df.drop(['User-ID','ISBN'],1)\n",
    "    df=df.fillna(df.median()) # fill with median\n",
    "    return df\n",
    "df_train=rating_merge(raw_train,df_user_rate)\n",
    "df_train.sample(3)"
   ]
  },
  {
   "cell_type": "markdown",
   "metadata": {},
   "source": [
    "# Train LightGBM"
   ]
  },
  {
   "cell_type": "markdown",
   "metadata": {},
   "source": [
    "(may be slow)"
   ]
  },
  {
   "cell_type": "code",
   "execution_count": 6,
   "metadata": {},
   "outputs": [
    {
     "name": "stdout",
     "output_type": "stream",
     "text": [
      "0:00:04.380443\n"
     ]
    }
   ],
   "source": [
    "# from sklearn.ensemble import GradientBoostingClassifier,RandomForestRegressor\n",
    "import lightgbm as lgb\n",
    "import datetime\n",
    "\n",
    "x_train=df_train.iloc[:,1:]\n",
    "y_train=np.ravel(df_train.iloc[:,:1])\n",
    "\n",
    "# model=RandomForestRegressor(\n",
    "#     500,\n",
    "#     max_features='sqrt',\n",
    "#     verbose=1,\n",
    "#     n_jobs=-1,\n",
    "# )\n",
    "\n",
    "# model=GradientBoostingClassifier(\n",
    "#     verbose=1,\n",
    "#     criterion='mae',\n",
    "#     n_estimators=10,\n",
    "# )\n",
    "\n",
    "model=lgb.LGBMRegressor(objective='regression')\n",
    "\n",
    "st=datetime.datetime.now()\n",
    "model.fit(x_train, y_train)\n",
    "print(datetime.datetime.now()-st)"
   ]
  },
  {
   "cell_type": "markdown",
   "metadata": {},
   "source": [
    "# Prepare Testing Data (for Submission)"
   ]
  },
  {
   "cell_type": "code",
   "execution_count": 7,
   "metadata": {
    "collapsed": true
   },
   "outputs": [],
   "source": [
    "x_test=rating_merge(raw_test,df_user_rate)"
   ]
  },
  {
   "cell_type": "code",
   "execution_count": 8,
   "metadata": {},
   "outputs": [
    {
     "name": "stdout",
     "output_type": "stream",
     "text": [
      "                   0\n",
      "count  173469.000000\n",
      "mean        7.629817\n",
      "std         1.071980\n",
      "min         0.994106\n",
      "25%         7.140688\n",
      "50%         7.687896\n",
      "75%         8.250696\n",
      "max         9.999731\n",
      "                   0\n",
      "count  173469.000000\n",
      "mean        7.683505\n",
      "std         1.126445\n",
      "min         1.000000\n",
      "25%         7.000000\n",
      "50%         8.000000\n",
      "75%         8.000000\n",
      "max        10.000000\n"
     ]
    }
   ],
   "source": [
    "def output_test(est_name=\"empty\"):\n",
    "    y_test_predict=model.predict(x_test)\n",
    "    y_test_predict=pd.DataFrame(y_test_predict)\n",
    "    y_test_predict.describe()\n",
    "\n",
    "    df_output=raw_submit.iloc[:,:]\n",
    "    df_output.iloc[:,0]=y_test_predict\n",
    "    \n",
    "    df_output2=df_output.iloc[:,:]\n",
    "#     df_output2=df_output2.transform(lambda x: (x/10)**1.5*10 )\n",
    "    df_output2=df_output2.round(1)\n",
    "    df_output2.to_csv(\"track2_%s.csv\"%est_name,header=None,index=None)\n",
    "    print(df_output.describe())\n",
    "    df_output=df_output.round()\n",
    "    df_output=df_output.astype('int32')\n",
    "    df_output.to_csv(\"track1_%s.csv\"%est_name,header=None,index=None)\n",
    "    print(df_output.describe())\n",
    "# output_test(\"gbm_default_1.5down\")\n",
    "\n",
    "output_test(\"gbm_default_param\")\n",
    "\n",
    "# RESULT #\n",
    "\"\"\"\n",
    "track1:\n",
    "b04303128\t2018-05-30 09:45:23\t\n",
    "Banana\n",
    "BananaBanana\t1.273607\n",
    "\"\"\"\n",
    "pass"
   ]
  },
  {
   "cell_type": "code",
   "execution_count": 9,
   "metadata": {},
   "outputs": [],
   "source": [
    "# # :p\n",
    "# import homework\n",
    "# from homework import *\n",
    "# reload(homework)\n",
    "# pass"
   ]
  }
 ],
 "metadata": {
  "kernelspec": {
   "display_name": "Python 3",
   "language": "python",
   "name": "python3"
  },
  "language_info": {
   "codemirror_mode": {
    "name": "ipython",
    "version": 3
   },
   "file_extension": ".py",
   "mimetype": "text/x-python",
   "name": "python",
   "nbconvert_exporter": "python",
   "pygments_lexer": "ipython3",
   "version": "3.6.1"
  },
  "toc": {
   "base_numbering": 1,
   "nav_menu": {},
   "number_sections": false,
   "sideBar": false,
   "skip_h1_title": false,
   "title_cell": "Titles",
   "title_sidebar": "Contents",
   "toc_cell": false,
   "toc_position": {},
   "toc_section_display": true,
   "toc_window_display": false
  }
 },
 "nbformat": 4,
 "nbformat_minor": 2
}
