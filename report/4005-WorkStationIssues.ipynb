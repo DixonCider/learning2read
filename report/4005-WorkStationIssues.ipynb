{
 "cells": [
  {
   "cell_type": "markdown",
   "metadata": {},
   "source": [
    "我建議conda體系作執行python/管理套件的系統  \n",
    "因為我用pip裝老半天發現pytorch要用conda裝...😱😱😱"
   ]
  },
  {
   "cell_type": "markdown",
   "metadata": {},
   "source": [
    "**安裝Miniconda3**"
   ]
  },
  {
   "cell_type": "markdown",
   "metadata": {},
   "source": [
    "1. cd到你喜歡的目錄，例如`/tmp2/b00123XXX/`\n",
    "    + 檔案非常大，建議直接整包裝在`/tmp2`\n",
    "    + 光pytorch就超過2GB\n",
    "2. `wget https://repo.continuum.io/miniconda/Miniconda3-latest-Linux-x86_64.sh`\n",
    "3. `bash Miniconda3-latest-Linux-x86_64.sh`\n",
    "4. 設定`$PATH`\n",
    "    + 以個人習慣的方式，在`.bashrc`或`.profile`中加入  \n",
    "    `export PATH=\"$HOME/miniconda3/bin:$PATH\"`\n",
    "    + Miniconda3安裝器本身會問你要不要自動在`.bashrc`裡加入這行（我是自己加啦）"
   ]
  },
  {
   "cell_type": "markdown",
   "metadata": {},
   "source": [
    "**安裝套件們**"
   ]
  },
  {
   "cell_type": "markdown",
   "metadata": {},
   "source": [
    "基本起手式  \n",
    "`conda install numpy`"
   ]
  },
  {
   "cell_type": "markdown",
   "metadata": {},
   "source": [
    "複雜式：需要指定channel  \n",
    "`conda install scikit-learn -c conda-forge`"
   ]
  },
  {
   "cell_type": "markdown",
   "metadata": {},
   "source": [
    "以下是我所寫安裝套件的python script（我不會用`environment.yml` QQ）"
   ]
  },
  {
   "cell_type": "markdown",
   "metadata": {},
   "source": [
    "<pre>\n",
    "class Installer:\n",
    "    def __init__(self,name,channel=None):\n",
    "        self.name=name\n",
    "        self.channel=channel\n",
    "    def __str__(self):\n",
    "        if self.channel:\n",
    "            return \"conda install %s -c %s\"%(self.name,self.channel)\n",
    "        else:\n",
    "            return \"conda install %s\"%self.name\n",
    "ilist=[\n",
    "    Installer(\"pytorch\",\"pytorch\"), # large\n",
    "    Installer(\"torchvision\",\"pytorch\"),\n",
    "    Installer(\"path.py\"),\n",
    "    Installer(\"pandas\"),\n",
    "    Installer(\"numpy\"),\n",
    "    Installer(\"scipy\"),\n",
    "    Installer(\"scikit-learn\",\"conda-forge\"),\n",
    "    Installer(\"lightgbm\",\"conda-forge\"),\n",
    "    Installer(\"jupyter\",\"conda-forge\"),\n",
    "    Installer(\"keras\"), # It fixes pytorch since I don't know why\n",
    "    # Installer(\"pyecharts\"), # failed\n",
    "]\n",
    "import os\n",
    "import datetime\n",
    "result=[]\n",
    "for install in ilist:\n",
    "    cmd=str(install)\n",
    "    print(cmd)\n",
    "    st=datetime.datetime.now()\n",
    "    rcode=os.system(cmd)\n",
    "    tcost=datetime.datetime.now()-st\n",
    "    result.append({\n",
    "        'cmd':cmd,\n",
    "        'time_cost':str(tcost),\n",
    "        'result_code':rcode\n",
    "    })\n",
    "try:\n",
    "    import pandas as pd\n",
    "    df=pd.DataFrame(result)\n",
    "    print(df)\n",
    "except:\n",
    "    for rent in result:\n",
    "        print(rent)\n",
    "</pre>"
   ]
  },
  {
   "cell_type": "code",
   "execution_count": null,
   "metadata": {
    "collapsed": true
   },
   "outputs": [],
   "source": []
  }
 ],
 "metadata": {
  "kernelspec": {
   "display_name": "Python 3",
   "language": "python",
   "name": "python3"
  },
  "language_info": {
   "codemirror_mode": {
    "name": "ipython",
    "version": 3
   },
   "file_extension": ".py",
   "mimetype": "text/x-python",
   "name": "python",
   "nbconvert_exporter": "python",
   "pygments_lexer": "ipython3",
   "version": "3.6.1"
  },
  "toc": {
   "base_numbering": 1,
   "nav_menu": {},
   "number_sections": false,
   "sideBar": false,
   "skip_h1_title": false,
   "title_cell": "Titles",
   "title_sidebar": "Contents",
   "toc_cell": false,
   "toc_position": {},
   "toc_section_display": true,
   "toc_window_display": false
  }
 },
 "nbformat": 4,
 "nbformat_minor": 2
}
