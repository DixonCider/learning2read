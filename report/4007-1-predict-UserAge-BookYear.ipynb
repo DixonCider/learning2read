{
 "cells": [
  {
   "cell_type": "markdown",
   "metadata": {},
   "source": [
    "# Imports"
   ]
  },
  {
   "cell_type": "code",
   "execution_count": 325,
   "metadata": {},
   "outputs": [],
   "source": [
    "import learning2read\n",
    "learning2read.reload_all()\n",
    "from learning2read.b04 import *\n",
    "Data = DataMgr(PATH_MAC['data'], verbose=1)\n",
    "File = PathMgr(PATH_MAC['cache'])"
   ]
  },
  {
   "cell_type": "markdown",
   "metadata": {},
   "source": [
    "# Load Data"
   ]
  },
  {
   "cell_type": "code",
   "execution_count": 326,
   "metadata": {},
   "outputs": [
    {
     "name": "stdout",
     "output_type": "stream",
     "text": [
      "/Users/qtwu/Downloads/data/book_ratings_train.csv\n",
      "/Users/qtwu/Downloads/data/book_ratings_test.csv\n",
      "/Users/qtwu/Downloads/data/implicit_ratings.csv\n",
      "/Users/qtwu/Downloads/data/users.csv\n",
      "/Users/qtwu/Downloads/data/books.csv\n"
     ]
    }
   ],
   "source": [
    "raw_train = Data('btrain')\n",
    "raw_test = Data('btest')\n",
    "raw_implicit = Data('implicit')\n",
    "raw_user = Data('user')\n",
    "raw_book = Data('book')\n",
    "raw_dataset = {\n",
    "    'raw_train' : raw_train,\n",
    "    'raw_test' : raw_test,\n",
    "    'raw_implicit' : raw_implicit,\n",
    "    'raw_user' : raw_user,\n",
    "    'raw_book' : raw_book,\n",
    "}"
   ]
  },
  {
   "cell_type": "markdown",
   "metadata": {},
   "source": [
    "## Truncated Data For Testing"
   ]
  },
  {
   "cell_type": "code",
   "execution_count": 327,
   "metadata": {},
   "outputs": [],
   "source": [
    "m = 1\n",
    "raw_dataset_truncated = {\n",
    "    'raw_train' : raw_train.sample(5000*m),\n",
    "    'raw_test' : raw_test.sample(2500*m),\n",
    "    'raw_implicit' : raw_implicit.sample(10000*m),\n",
    "    'raw_user' : raw_user.sample(5000*m),\n",
    "    'raw_book' : raw_book.sample(5000*m),\n",
    "}"
   ]
  },
  {
   "cell_type": "markdown",
   "metadata": {},
   "source": [
    "# Procedure Definition"
   ]
  },
  {
   "cell_type": "markdown",
   "metadata": {},
   "source": [
    "## Preprocessing"
   ]
  },
  {
   "cell_type": "code",
   "execution_count": 328,
   "metadata": {},
   "outputs": [],
   "source": [
    "proc4007 = [\n",
    "    {\n",
    "        'class' : 'learning2read.preprocessing.TotalDataFrame',\n",
    "        'output' : 'df_total',\n",
    "        'input_data' : ['raw_train', 'raw_test', 'raw_implicit'],\n",
    "    },\n",
    "    {\n",
    "        'class' : 'learning2read.preprocessing.CleanRawUser',\n",
    "        'output' : 'user_info',\n",
    "        'input_data' : ['df_total', 'raw_user'],\n",
    "        'na_policy' : 'median',\n",
    "    },\n",
    "    {\n",
    "        'class' : 'learning2read.preprocessing.CleanRawBook',\n",
    "        'output' : 'book_info',\n",
    "        'input_data' : ['df_total', 'raw_book'],\n",
    "        'na_policy' : 'median',\n",
    "    },\n",
    "    {\n",
    "        'class' : 'learning2read.preprocessing.UserRatingSqueeze',\n",
    "        'output' : 'user_rating',\n",
    "        'input_data' : 'df_total',\n",
    "        'filter_num' : 3,\n",
    "        'statistics' : ['num','quantile11','mean','mode','std','skew','kurtosis'],\n",
    "#         'statistics' : ['num','mean','mode','std','skew','kurtosis'],\n",
    "        'na_policy' : 'median',\n",
    "    },\n",
    "    {\n",
    "        'class' : 'learning2read.preprocessing.UserPadding',\n",
    "        'output' : 'user_rating',\n",
    "        'input_data' : ['df_total', 'user_rating'],\n",
    "        'isna_name' : 'User_no_book',\n",
    "        'na_policy' : 'median',\n",
    "    },\n",
    "    {\n",
    "        'class' : 'learning2read.preprocessing.BookRatingSqueeze',\n",
    "        'output' : 'book_rating',\n",
    "        'input_data' : 'df_total',\n",
    "        'filter_num' : 3,\n",
    "        'statistics' : ['num','quantile11','mean','mode','std','skew','kurtosis'],\n",
    "#         'statistics' : ['num','mean','mode','std','skew','kurtosis'],\n",
    "        'na_policy' : 'median',\n",
    "    },\n",
    "    {\n",
    "        'class' : 'learning2read.preprocessing.BookPadding',\n",
    "        'output' : 'book_rating',\n",
    "        'input_data' : ['df_total', 'book_rating'],\n",
    "        'isna_name' : 'ISBN_no_user',\n",
    "        'na_policy' : 'median',\n",
    "    },\n",
    "    {\n",
    "        'class'  : 'learning2read.b04.BookVectorPow2AutoEncoder',\n",
    "        'output' : 'book_vector',\n",
    "        'input_data' : 'df_total',\n",
    "        'domain_filter_num' : 2, # book with >=2 users\n",
    "        'codomain_filter_num' : 400, # user with >=400 books\n",
    "        'param' : {\n",
    "            'code_length' : 32, \n",
    "            'activation' : 'SELU', \n",
    "            'solver' : 'Adam', \n",
    "            'learning_rate' : 0.01,\n",
    "            'epochs' : 20,\n",
    "            'random_state' : 1,\n",
    "        },\n",
    "    },\n",
    "    {\n",
    "        'class'  : 'learning2read.b04.UserVectorPow2AutoEncoder',\n",
    "        'output' : 'user_vector',\n",
    "        'input_data' : 'df_total',\n",
    "        'domain_filter_num' : 2,\n",
    "        'codomain_filter_num' : 200,\n",
    "        'param' : {\n",
    "            'code_length' : 32, \n",
    "            'activation' : 'SELU', \n",
    "            'solver' : 'Adam', \n",
    "            'learning_rate' : 0.01,\n",
    "            'epochs' : 20,\n",
    "            'random_state' : 1,\n",
    "        },\n",
    "    },\n",
    "    {\n",
    "        'class'  : 'learning2read.preprocessing.UserBookTable',\n",
    "        'output' : 'df_total_features', # (X,y={-1,0,1,2,...,10})\n",
    "        'input_data' : ['df_total', 'user_rating', 'book_rating', 'user_info', 'book_info', 'user_vector', 'book_vector'],\n",
    "        'na_policy' : None, # should fill it before training\n",
    "    },\n",
    "]"
   ]
  },
  {
   "cell_type": "markdown",
   "metadata": {},
   "source": [
    "## Learn & Output"
   ]
  },
  {
   "cell_type": "code",
   "execution_count": 323,
   "metadata": {},
   "outputs": [],
   "source": [
    "proc4007.extend([\n",
    "    {\n",
    "        'class'  : 'learning2read.preprocessing.RowFilter',\n",
    "        'output' : 'df_train',\n",
    "        'input_data' : 'df_total_features',\n",
    "        'func' : r\"lambda df : df['Book-Rating']>0\",\n",
    "    },\n",
    "    {\n",
    "        'class'  : 'learning2read.b04.LightGBMRegressor',\n",
    "        'output' : 'model_lgbm',\n",
    "        'input_data' : 'df_train',\n",
    "        'param' : { # tune by linux10, used in 4006\n",
    "            'num_leaves' : 149,\n",
    "            'learning_rate' : 0.220460,\n",
    "            'n_estimators' : 121,\n",
    "            'min_child_samples' : 49,\n",
    "            'seed' : 1,\n",
    "        }\n",
    "    },\n",
    "    {\n",
    "        'class'  : 'learning2read.preprocessing.RowFilter',\n",
    "        'output' : 'df_test',\n",
    "        'input_data' : 'df_total_features',\n",
    "        'func' : r\"lambda df : df['Book-Rating']<0\",\n",
    "    },\n",
    "    {\n",
    "        'class'  : 'learning2read.submission.Track1',\n",
    "        'output' : 'track1',\n",
    "        'input_data' : ['df_test', 'model_lgbm'],\n",
    "    },\n",
    "    {\n",
    "        'class'  : 'learning2read.submission.Track2',\n",
    "        'output' : 'track2',\n",
    "        'input_data' : ['df_test', 'model_lgbm'],\n",
    "    },\n",
    "])"
   ]
  },
  {
   "cell_type": "markdown",
   "metadata": {
    "heading_collapsed": true
   },
   "source": [
    "## [DEV] Preprocessing Proc"
   ]
  },
  {
   "cell_type": "code",
   "execution_count": 235,
   "metadata": {
    "hidden": true
   },
   "outputs": [],
   "source": [
    "# proc4007 = [\n",
    "#     {\n",
    "#         'class' : 'learning2read.preprocessing.TotalDataFrame',\n",
    "#         'output' : 'df_total',\n",
    "#         'input_data' : ['raw_train', 'raw_test', 'raw_implicit'],\n",
    "#     },\n",
    "# #     {\n",
    "# #         'class' : 'learning2read.preprocessing.CleanRawUser',\n",
    "# #         'output' : 'user_info',\n",
    "# #         'input_data' : ['df_total', 'raw_user'],\n",
    "# #         'na_policy' : 'median',\n",
    "# #     },\n",
    "#     {\n",
    "#         'class' : 'learning2read.preprocessing.CleanRawBook',\n",
    "#         'output' : 'book_info',\n",
    "#         'input_data' : ['df_total', 'raw_book'],\n",
    "#         'na_policy' : 'median',\n",
    "#     },\n",
    "# #     {\n",
    "# #         'class'  : 'learning2read.preprocessing.UserBookTable',\n",
    "# #         'output' : 'df_total_features', # (X,y={-1,0,1,2,...,10})\n",
    "# #         'input_data' : ['df_total', 'book_info'],\n",
    "# #         'na_policy' : None, # should fill it before training\n",
    "# #     },\n",
    "# ]"
   ]
  },
  {
   "cell_type": "markdown",
   "metadata": {},
   "source": [
    "## DataFrame View of proc4007"
   ]
  },
  {
   "cell_type": "code",
   "execution_count": 329,
   "metadata": {},
   "outputs": [
    {
     "data": {
      "text/html": [
       "<div>\n",
       "<style scoped>\n",
       "    .dataframe tbody tr th:only-of-type {\n",
       "        vertical-align: middle;\n",
       "    }\n",
       "\n",
       "    .dataframe tbody tr th {\n",
       "        vertical-align: top;\n",
       "    }\n",
       "\n",
       "    .dataframe thead th {\n",
       "        text-align: right;\n",
       "    }\n",
       "</style>\n",
       "<table border=\"1\" class=\"dataframe\">\n",
       "  <thead>\n",
       "    <tr style=\"text-align: right;\">\n",
       "      <th></th>\n",
       "      <th>class</th>\n",
       "      <th>input_data</th>\n",
       "      <th>output</th>\n",
       "    </tr>\n",
       "  </thead>\n",
       "  <tbody>\n",
       "    <tr>\n",
       "      <th>0</th>\n",
       "      <td>learning2read.preprocessing.TotalDataFrame</td>\n",
       "      <td>[raw_train, raw_test, raw_implicit]</td>\n",
       "      <td>df_total</td>\n",
       "    </tr>\n",
       "    <tr>\n",
       "      <th>1</th>\n",
       "      <td>learning2read.preprocessing.CleanRawUser</td>\n",
       "      <td>[df_total, raw_user]</td>\n",
       "      <td>user_info</td>\n",
       "    </tr>\n",
       "    <tr>\n",
       "      <th>2</th>\n",
       "      <td>learning2read.preprocessing.CleanRawBook</td>\n",
       "      <td>[df_total, raw_book]</td>\n",
       "      <td>book_info</td>\n",
       "    </tr>\n",
       "    <tr>\n",
       "      <th>3</th>\n",
       "      <td>learning2read.preprocessing.UserRatingSqueeze</td>\n",
       "      <td>df_total</td>\n",
       "      <td>user_rating</td>\n",
       "    </tr>\n",
       "    <tr>\n",
       "      <th>4</th>\n",
       "      <td>learning2read.preprocessing.UserPadding</td>\n",
       "      <td>[df_total, user_rating]</td>\n",
       "      <td>user_rating</td>\n",
       "    </tr>\n",
       "    <tr>\n",
       "      <th>5</th>\n",
       "      <td>learning2read.preprocessing.BookRatingSqueeze</td>\n",
       "      <td>df_total</td>\n",
       "      <td>book_rating</td>\n",
       "    </tr>\n",
       "    <tr>\n",
       "      <th>6</th>\n",
       "      <td>learning2read.preprocessing.BookPadding</td>\n",
       "      <td>[df_total, book_rating]</td>\n",
       "      <td>book_rating</td>\n",
       "    </tr>\n",
       "    <tr>\n",
       "      <th>7</th>\n",
       "      <td>learning2read.b04.BookVectorPow2AutoEncoder</td>\n",
       "      <td>df_total</td>\n",
       "      <td>book_vector</td>\n",
       "    </tr>\n",
       "    <tr>\n",
       "      <th>8</th>\n",
       "      <td>learning2read.b04.UserVectorPow2AutoEncoder</td>\n",
       "      <td>df_total</td>\n",
       "      <td>user_vector</td>\n",
       "    </tr>\n",
       "    <tr>\n",
       "      <th>9</th>\n",
       "      <td>learning2read.preprocessing.UserBookTable</td>\n",
       "      <td>[df_total, user_rating, book_rating, user_info...</td>\n",
       "      <td>df_total_features</td>\n",
       "    </tr>\n",
       "  </tbody>\n",
       "</table>\n",
       "</div>"
      ],
      "text/plain": [
       "                                           class  \\\n",
       "0     learning2read.preprocessing.TotalDataFrame   \n",
       "1       learning2read.preprocessing.CleanRawUser   \n",
       "2       learning2read.preprocessing.CleanRawBook   \n",
       "3  learning2read.preprocessing.UserRatingSqueeze   \n",
       "4        learning2read.preprocessing.UserPadding   \n",
       "5  learning2read.preprocessing.BookRatingSqueeze   \n",
       "6        learning2read.preprocessing.BookPadding   \n",
       "7    learning2read.b04.BookVectorPow2AutoEncoder   \n",
       "8    learning2read.b04.UserVectorPow2AutoEncoder   \n",
       "9      learning2read.preprocessing.UserBookTable   \n",
       "\n",
       "                                          input_data             output  \n",
       "0                [raw_train, raw_test, raw_implicit]           df_total  \n",
       "1                               [df_total, raw_user]          user_info  \n",
       "2                               [df_total, raw_book]          book_info  \n",
       "3                                           df_total        user_rating  \n",
       "4                            [df_total, user_rating]        user_rating  \n",
       "5                                           df_total        book_rating  \n",
       "6                            [df_total, book_rating]        book_rating  \n",
       "7                                           df_total        book_vector  \n",
       "8                                           df_total        user_vector  \n",
       "9  [df_total, user_rating, book_rating, user_info...  df_total_features  "
      ]
     },
     "execution_count": 329,
     "metadata": {},
     "output_type": "execute_result"
    }
   ],
   "source": [
    "pd.DataFrame(proc4007)[['class','input_data','output']]"
   ]
  },
  {
   "cell_type": "markdown",
   "metadata": {},
   "source": [
    "# Run"
   ]
  },
  {
   "cell_type": "code",
   "execution_count": 330,
   "metadata": {},
   "outputs": [
    {
     "name": "stdout",
     "output_type": "stream",
     "text": [
      "run_id(0): {'class': 'learning2read.preprocessing.TotalDataFrame', 'output': 'df_total', 'input_data': ['raw_train', 'raw_test', 'raw_implicit']}\n",
      "run_id(1): {'class': 'learning2read.preprocessing.CleanRawUser', 'output': 'user_info', 'input_data': ['df_total', 'raw_user'], 'na_policy': 'median'}\n",
      "run_id(2): {'class': 'learning2read.preprocessing.CleanRawBook', 'output': 'book_info', 'input_data': ['df_total', 'raw_book'], 'na_policy': 'median'}\n",
      "run_id(3): {'class': 'learning2read.preprocessing.UserRatingSqueeze', 'output': 'user_rating', 'input_data': 'df_total', 'filter_num': 3, 'statistics': ['num', 'quantile11', 'mean', 'mode', 'std', 'skew', 'kurtosis'], 'na_policy': 'median'}\n",
      "run_id(4): {'class': 'learning2read.preprocessing.UserPadding', 'output': 'user_rating', 'input_data': ['df_total', 'user_rating'], 'isna_name': 'User_no_book', 'na_policy': 'median'}\n",
      "run_id(5): {'class': 'learning2read.preprocessing.BookRatingSqueeze', 'output': 'book_rating', 'input_data': 'df_total', 'filter_num': 3, 'statistics': ['num', 'quantile11', 'mean', 'mode', 'std', 'skew', 'kurtosis'], 'na_policy': 'median'}\n",
      "run_id(6): {'class': 'learning2read.preprocessing.BookPadding', 'output': 'book_rating', 'input_data': ['df_total', 'book_rating'], 'isna_name': 'ISBN_no_user', 'na_policy': 'median'}\n",
      "run_id(7): {'class': 'learning2read.b04.BookVectorPow2AutoEncoder', 'output': 'book_vector', 'input_data': 'df_total', 'domain_filter_num': 2, 'codomain_filter_num': 400, 'param': {'code_length': 32, 'activation': 'SELU', 'solver': 'Adam', 'learning_rate': 0.01, 'epochs': 20, 'random_state': 1}}\n",
      "input dim:  [1663, 0]\n",
      "[BookVectorPow2AutoEncoder] WARNING idx_list got nothing (too extreme filter?)\n",
      "run_id(8): {'class': 'learning2read.b04.UserVectorPow2AutoEncoder', 'output': 'user_vector', 'input_data': 'df_total', 'domain_filter_num': 2, 'codomain_filter_num': 200, 'param': {'code_length': 32, 'activation': 'SELU', 'solver': 'Adam', 'learning_rate': 0.01, 'epochs': 20, 'random_state': 1}}\n",
      "input dim:  [2394, 0]\n",
      "[BookVectorPow2AutoEncoder] WARNING idx_list got nothing (too extreme filter?)\n",
      "run_id(9): {'class': 'learning2read.preprocessing.UserBookTable', 'output': 'df_total_features', 'input_data': ['df_total', 'user_rating', 'book_rating', 'user_info', 'book_info', 'user_vector', 'book_vector'], 'na_policy': None}\n"
     ]
    },
    {
     "data": {
      "text/plain": [
       "last_done_proc_id = 9\n",
       "   len(proc_list) = 10\n",
       "var : dict_keys(['raw_train', 'raw_test', 'raw_implicit', 'raw_user', 'raw_book', 'df_total', 'user_info', 'book_info', 'user_rating', 'book_rating', 'book_vector', 'user_vector', 'df_total_features'])"
      ]
     },
     "execution_count": 330,
     "metadata": {},
     "output_type": "execute_result"
    }
   ],
   "source": [
    "# reload\n",
    "import learning2read\n",
    "learning2read.reload_all()\n",
    "from learning2read.b04 import *\n",
    "\n",
    "from learning2read.proc import Procedure\n",
    "P = Procedure(proc4007,verbose=True)\n",
    "P.load_data(raw_dataset_truncated)\n",
    "# P.load_data(raw_dataset)\n",
    "P.run()"
   ]
  },
  {
   "cell_type": "markdown",
   "metadata": {},
   "source": [
    "# Submit"
   ]
  },
  {
   "cell_type": "code",
   "execution_count": 9,
   "metadata": {},
   "outputs": [],
   "source": [
    "Doc = PathMgr(r\"~/mlfinal/\")\n",
    "t1=pd.DataFrame(P.var['track1'])\n",
    "t1.to_csv(Doc('t1_4007_use_4006_lgbm.csv'),header=None,index=None)"
   ]
  },
  {
   "cell_type": "markdown",
   "metadata": {},
   "source": [
    "# Homework Package :p"
   ]
  },
  {
   "cell_type": "code",
   "execution_count": 2,
   "metadata": {},
   "outputs": [
    {
     "data": {
      "text/html": [
       "<style>\n",
       "@import url(https://fonts.googleapis.com/earlyaccess/notosanstc.css);\n",
       "\n",
       ".text_cell{\n",
       "  font-family: Arial,'Noto Sans TC', sans-serif;\n",
       "  font-weight:300;\n",
       "  font-size:100%;\n",
       "  line-height:24px;\n",
       "}\n",
       ".rendered_html pre, .rendered_html code{\n",
       "  font-family: Consolas,monospace;\n",
       "  background-color:#F7F7F7;\n",
       "  display: inline;\n",
       "  padding: 5px;\n",
       "}\n",
       "#notebook-container{\n",
       "  background-image: linear-gradient(to bottom, rgba(255,255,255,0.9) ,rgba(255,255,255,0.85)), url(\"https://image.freepik.com/free-photo/white-paper-background_1154-683.jpg\");\n",
       "  background-color: white;\n",
       "}\n",
       "div.output_subarea{\n",
       "  max-width: calc(100% - 1ex);\n",
       "}\n",
       ".rendered_html * + ul{\n",
       "  margin:1px;\n",
       "}\n",
       ".rendered_html * + ol{\n",
       "  margin-top:0.25em; \n",
       "}\n",
       "div.cell{\n",
       "  padding:1px; //origin:5px;\n",
       "}\n",
       "div.text_cell_render{\n",
       "  padding:1px; //0.5em 0.5em 0.5em 0.4em\n",
       "}\n",
       ".prompt{\n",
       "  min-width:2ex; //14ex\n",
       "  padding:1px; //0.4em\n",
       "}\n",
       "\n",
       "div.output_area{\n",
       "  padding:0px;\n",
       "}\n",
       "div.input_area{\n",
       "    margin: 2px 0px 2px 0px; /* for law output */\n",
       "}\n",
       ".MathJax:focus, body :focus .MathJax{\n",
       "    outline-width: 3px;\n",
       "    outline-color: #bbccff;\n",
       "}\n",
       "div.cell.selected:before, div.cell.selected.jupyter-soft-selected:before{\n",
       "    left: -5px;\n",
       "    width: 4px;\n",
       "    background: #42A5F577;\n",
       "}\n",
       "hr{\n",
       "  page-break-before: always !important;\n",
       "}\n",
       "@media print {\n",
       "  div{\n",
       "    //display: block !important;\n",
       "    //display: inline !important;\n",
       "    //flex: none !important;\n",
       "    //page-break-inside: always !important;\n",
       "  }\n",
       "  div.inner_cell {\n",
       "    //flex: none !important;\n",
       "    //page-break-inside: always !important;\n",
       "    //display: block !important;\n",
       "  }\n",
       "  div.cell {\n",
       "    //flex: none !important;\n",
       "    //page-break-inside: always !important;\n",
       "    //display: block !important;\n",
       "  }\n",
       "  div.code_cell {\n",
       "    //flex: none !important;\n",
       "    //page-break-inside: always !important;\n",
       "    //display: block !important;\n",
       "  }\n",
       "  div.input {\n",
       "    //flex: none !important;\n",
       "    //page-break-inside: always !important;\n",
       "    //display: block !important;\n",
       "  }\n",
       "  div.output_area {\n",
       "    //flex: none !important;\n",
       "    //page-break-inside: always !important;\n",
       "    //display: block !important;\n",
       "  }\n",
       "}\n",
       " @media print {\n",
       "   a[href]:after {\n",
       "     content: none !important;\n",
       "   }\n",
       "   div#notebook-container{\n",
       "     overflow: visible !important;\n",
       "     width:100% !important;\n",
       "   }\n",
       " }\n",
       " @page {\n",
       "   size: A4;\n",
       "   margin: 10mm 15mm 10mm 15mm;\n",
       " }\n",
       ".textCode{\n",
       "  border-style: dash;\n",
       "  border-color: black;\n",
       "  background-color : #F7F7F7;\n",
       "  width:100%;\n",
       "}\n",
       ".inSlide{\n",
       "  border-style: solid;\n",
       "  border-color: #aaa;\n",
       "  background-color : #F7F7F7;\n",
       "  padding : 6px 12px 6px 12px;\n",
       "  margin : 2px 0px 2px 0px;\n",
       "  width: 100%;\n",
       "  opacity: 0.5;\n",
       "}\n",
       ".inSlide > img{\n",
       "  max-height:160px;\n",
       "}\n",
       ".dayTitle{\n",
       "//width : 100%;\n",
       "  background-color : grey;\n",
       "  padding : 10px;\n",
       "  color : white;\n",
       "  text-align: right;\n",
       "}\n",
       ".ana{\n",
       "  font-size:150%;\n",
       "  text-align: center;\n",
       "  padding:11px;\n",
       "}\n",
       "div.output_subarea{\n",
       "  overflow-x: hidden;\n",
       "}\n",
       "div.law{\n",
       "    width:100%;\n",
       "    padding-top:5px;\n",
       "    margin:0px 60px 0px 30px; //compact\n",
       "    clear:left;\n",
       "    overflow-x: hidden;\n",
       "    color:#232323;\n",
       "}\n",
       "div.law::after {\n",
       "  content: \"\";\n",
       "  background-image: url(\"https://image.freepik.com/free-photo/white-paper-background_1154-683.jpg\");\n",
       "  opacity: 0.066;\n",
       "  top: 0;\n",
       "  left: 0;\n",
       "  bottom: 0;\n",
       "  right: 0;\n",
       "  position: absolute;\n",
       "  z-index: -1;   \n",
       "}\n",
       ".lawLeft{\n",
       "  width:12%;\n",
       "  float:left;\n",
       "  overflow-x: hidden;\n",
       "}\n",
       ".lawMid{\n",
       "  width:80%;\n",
       "  float:left; \n",
       "  border-width:1px; \n",
       "  border-style:none none solid; \n",
       "  border-color:grey;\n",
       "  overflow-x: hidden;\n",
       "}\n",
       ".lawRight{\n",
       "  width:1%;\n",
       "  float:clear;\n",
       "  display:none;\n",
       "  overflow-x: hidden;\n",
       "}\n",
       "</style>"
      ],
      "text/plain": [
       "<IPython.core.display.HTML object>"
      ]
     },
     "metadata": {},
     "output_type": "display_data"
    },
    {
     "data": {
      "text/html": [
       "<div class=\"controlPanel\" style=\"position:fixed; right:0px; bottom:0px; z-index:2147483647;\">\n",
       "<button class=\"cbtn\" style=\"background-color: Transparent;\"\n",
       "onclick=\"$('.controlPanel').toggle();\">\n",
       "Menu</button>\n",
       "<button class=\"cbtn\" style=\"background-color: Transparent;\"\n",
       "onclick=\"$('.input, .prompt, .output_stderr, .output_error').toggle();\">\n",
       "Code</button>\n",
       "<button class=\"cbtn\" style=\"background-color: Transparent;\"\n",
       "onclick=\"$('.cbtn').toggle(); window.print(); $('.cbtn').toggle();\">\n",
       "Print</button>\n",
       "<button class=\"cbtn\" style=\"background-color: Transparent;\"\n",
       "onclick=\"$('#header').toggle();$('#notebook').css('padding-top','0px');$('#site').css('height','100%');$('.end_space').toggle()\">\n",
       "Header</button>\n",
       "</div>"
      ],
      "text/plain": [
       "<IPython.core.display.HTML object>"
      ]
     },
     "metadata": {},
     "output_type": "display_data"
    },
    {
     "data": {
      "application/javascript": [],
      "text/plain": [
       "<IPython.core.display.Javascript object>"
      ]
     },
     "metadata": {},
     "output_type": "display_data"
    },
    {
     "data": {
      "text/markdown": [
       "$\\def \\t {\\text}\n",
       "\\def \\sp {\\space}\n",
       "\\def \\spc {\\space\\space\\space}\n",
       "\\def \\spe {\\space\\space\\space\\space\\space}\n",
       "\\def \\bc {\\because}\n",
       "\\def \\A {\\mathcal{A}}\n",
       "\\def \\H {\\mathcal{H}}\n",
       "\\def \\m {\\mathcal{m}}\n",
       "\\def \\R {\\mathbb{R}}\n",
       "\\def \\N {\\mathbb{N}}\n",
       "\\def \\Z {\\mathbb{Z}}\n",
       "\\def \\Q {\\mathbb{Q}}\n",
       "\\def \\C {\\mathbb{C}}\n",
       "\\def \\say {\\underbrace}\n",
       "\\def \\L {\\mathbb{L}}\n",
       "\\def \\P {\\mathbb{P}}\n",
       "\\def \\F {\\mathbb{F}}\n",
       "\\def \\sbc {\\spc\\because}\n",
       "\\def \\sbe {\\spe\\because}\n",
       "\\def \\defeq {\\overset{def}{=}}\n",
       "\\def \\ctr {\\rightarrow\\leftarrow}\n",
       "\\def \\st {\\t{ such that }}\n",
       "\\def \\inner#1 #2{\\langle #1 \\mid #2 \\rangle}\n",
       "\\def \\norm#1{\\lVert #1 \\rVert}\n",
       "\\def \\bm#1 {\\begin{bmatrix} #1 \\end{bmatrix}}\n",
       "\\def \\pt {\\partial}\n",
       "\\def \\ppt#1 #2{\\frac{\\pt #1}{\\pt #2}}\n",
       "\\def\\l {\\mathscr{l}}\n",
       "\\def \\vphi {\\varphi}$\n"
      ],
      "text/plain": [
       "<IPython.core.display.Markdown object>"
      ]
     },
     "metadata": {},
     "output_type": "display_data"
    }
   ],
   "source": [
    "import homework\n",
    "from homework import *\n",
    "reload(homework)\n",
    "pass"
   ]
  }
 ],
 "metadata": {
  "kernelspec": {
   "display_name": "Python 3",
   "language": "python",
   "name": "python3"
  },
  "language_info": {
   "codemirror_mode": {
    "name": "ipython",
    "version": 3
   },
   "file_extension": ".py",
   "mimetype": "text/x-python",
   "name": "python",
   "nbconvert_exporter": "python",
   "pygments_lexer": "ipython3",
   "version": "3.6.1"
  },
  "toc": {
   "base_numbering": 1,
   "nav_menu": {},
   "number_sections": false,
   "sideBar": false,
   "skip_h1_title": false,
   "title_cell": "Titles",
   "title_sidebar": "Contents",
   "toc_cell": false,
   "toc_position": {},
   "toc_section_display": true,
   "toc_window_display": false
  }
 },
 "nbformat": 4,
 "nbformat_minor": 2
}
